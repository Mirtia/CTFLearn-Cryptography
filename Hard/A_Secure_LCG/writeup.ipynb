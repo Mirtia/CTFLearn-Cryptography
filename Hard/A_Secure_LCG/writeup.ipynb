{
 "cells": [
  {
   "attachments": {},
   "cell_type": "markdown",
   "metadata": {},
   "source": [
    "# A Secure LCG"
   ]
  },
  {
   "cell_type": "code",
   "execution_count": 43,
   "metadata": {},
   "outputs": [
    {
     "ename": "Exception",
     "evalue": "Modular inverse does not exist",
     "output_type": "error",
     "traceback": [
      "\u001b[0;31m---------------------------------------------------------------------------\u001b[0m",
      "\u001b[0;31mException\u001b[0m                                 Traceback (most recent call last)",
      "\u001b[1;32m/home/myrgkol/Documents/CTFLearn-Cryptography/Hard/A_Secure_LCG/writeup.ipynb Cell 2\u001b[0m line \u001b[0;36m3\n\u001b[1;32m     <a href='vscode-notebook-cell:/home/myrgkol/Documents/CTFLearn-Cryptography/Hard/A_Secure_LCG/writeup.ipynb#W0sZmlsZQ%3D%3D?line=32'>33</a>\u001b[0m \u001b[39m# max_ = 121409833232633162280\u001b[39;00m\n\u001b[1;32m     <a href='vscode-notebook-cell:/home/myrgkol/Documents/CTFLearn-Cryptography/Hard/A_Secure_LCG/writeup.ipynb#W0sZmlsZQ%3D%3D?line=33'>34</a>\u001b[0m states \u001b[39m=\u001b[39m [x1, x2, x3]\n\u001b[0;32m---> <a href='vscode-notebook-cell:/home/myrgkol/Documents/CTFLearn-Cryptography/Hard/A_Secure_LCG/writeup.ipynb#W0sZmlsZQ%3D%3D?line=35'>36</a>\u001b[0m cracked_multiplier \u001b[39m=\u001b[39m crack_unknown_modulus(states)\n\u001b[1;32m     <a href='vscode-notebook-cell:/home/myrgkol/Documents/CTFLearn-Cryptography/Hard/A_Secure_LCG/writeup.ipynb#W0sZmlsZQ%3D%3D?line=37'>38</a>\u001b[0m \u001b[39mprint\u001b[39m(\u001b[39m\"\u001b[39m\u001b[39mEstimated unknown multiplier:\u001b[39m\u001b[39m\"\u001b[39m, cracked_multiplier)\n",
      "\u001b[1;32m/home/myrgkol/Documents/CTFLearn-Cryptography/Hard/A_Secure_LCG/writeup.ipynb Cell 2\u001b[0m line \u001b[0;36m2\n\u001b[1;32m     <a href='vscode-notebook-cell:/home/myrgkol/Documents/CTFLearn-Cryptography/Hard/A_Secure_LCG/writeup.ipynb#W0sZmlsZQ%3D%3D?line=21'>22</a>\u001b[0m \u001b[39m# zeroes = [t2 * t0 - t1 * t1 for t0, t1, t2 in zip(diffs, diffs[1:], diffs[2:])]\u001b[39;00m\n\u001b[1;32m     <a href='vscode-notebook-cell:/home/myrgkol/Documents/CTFLearn-Cryptography/Hard/A_Secure_LCG/writeup.ipynb#W0sZmlsZQ%3D%3D?line=22'>23</a>\u001b[0m modulus \u001b[39m=\u001b[39m \u001b[39mabs\u001b[39m(reduce(gcd, diffs))\n\u001b[0;32m---> <a href='vscode-notebook-cell:/home/myrgkol/Documents/CTFLearn-Cryptography/Hard/A_Secure_LCG/writeup.ipynb#W0sZmlsZQ%3D%3D?line=23'>24</a>\u001b[0m \u001b[39mreturn\u001b[39;00m crack_unknown_multiplier(states, modulus)\n",
      "\u001b[1;32m/home/myrgkol/Documents/CTFLearn-Cryptography/Hard/A_Secure_LCG/writeup.ipynb Cell 2\u001b[0m line \u001b[0;36m2\n\u001b[1;32m     <a href='vscode-notebook-cell:/home/myrgkol/Documents/CTFLearn-Cryptography/Hard/A_Secure_LCG/writeup.ipynb#W0sZmlsZQ%3D%3D?line=25'>26</a>\u001b[0m \u001b[39mdef\u001b[39;00m \u001b[39mcrack_unknown_multiplier\u001b[39m(states, modulus):\n\u001b[0;32m---> <a href='vscode-notebook-cell:/home/myrgkol/Documents/CTFLearn-Cryptography/Hard/A_Secure_LCG/writeup.ipynb#W0sZmlsZQ%3D%3D?line=26'>27</a>\u001b[0m     multiplier \u001b[39m=\u001b[39m (states[\u001b[39m2\u001b[39m] \u001b[39m-\u001b[39m states[\u001b[39m1\u001b[39m]) \u001b[39m*\u001b[39m modinv(states[\u001b[39m1\u001b[39;49m] \u001b[39m-\u001b[39;49m states[\u001b[39m0\u001b[39;49m], modulus) \u001b[39m%\u001b[39m modulus\n\u001b[1;32m     <a href='vscode-notebook-cell:/home/myrgkol/Documents/CTFLearn-Cryptography/Hard/A_Secure_LCG/writeup.ipynb#W0sZmlsZQ%3D%3D?line=27'>28</a>\u001b[0m     \u001b[39mreturn\u001b[39;00m multiplier\n",
      "\u001b[1;32m/home/myrgkol/Documents/CTFLearn-Cryptography/Hard/A_Secure_LCG/writeup.ipynb Cell 2\u001b[0m line \u001b[0;36m1\n\u001b[1;32m     <a href='vscode-notebook-cell:/home/myrgkol/Documents/CTFLearn-Cryptography/Hard/A_Secure_LCG/writeup.ipynb#W0sZmlsZQ%3D%3D?line=13'>14</a>\u001b[0m g, x, y \u001b[39m=\u001b[39m egcd(a, m)\n\u001b[1;32m     <a href='vscode-notebook-cell:/home/myrgkol/Documents/CTFLearn-Cryptography/Hard/A_Secure_LCG/writeup.ipynb#W0sZmlsZQ%3D%3D?line=14'>15</a>\u001b[0m \u001b[39mif\u001b[39;00m g \u001b[39m!=\u001b[39m \u001b[39m1\u001b[39m:\n\u001b[0;32m---> <a href='vscode-notebook-cell:/home/myrgkol/Documents/CTFLearn-Cryptography/Hard/A_Secure_LCG/writeup.ipynb#W0sZmlsZQ%3D%3D?line=15'>16</a>\u001b[0m     \u001b[39mraise\u001b[39;00m \u001b[39mException\u001b[39;00m(\u001b[39m'\u001b[39m\u001b[39mModular inverse does not exist\u001b[39m\u001b[39m'\u001b[39m)\n\u001b[1;32m     <a href='vscode-notebook-cell:/home/myrgkol/Documents/CTFLearn-Cryptography/Hard/A_Secure_LCG/writeup.ipynb#W0sZmlsZQ%3D%3D?line=16'>17</a>\u001b[0m \u001b[39melse\u001b[39;00m:\n\u001b[1;32m     <a href='vscode-notebook-cell:/home/myrgkol/Documents/CTFLearn-Cryptography/Hard/A_Secure_LCG/writeup.ipynb#W0sZmlsZQ%3D%3D?line=17'>18</a>\u001b[0m     \u001b[39mreturn\u001b[39;00m x \u001b[39m%\u001b[39m m\n",
      "\u001b[0;31mException\u001b[0m: Modular inverse does not exist"
     ]
    }
   ],
   "source": [
    "from functools import reduce\n",
    "from math import gcd\n",
    "from functools import reduce\n",
    "from math import gcd\n",
    "\n",
    "def egcd(a, b):\n",
    "    if a == 0:\n",
    "        return (b, 0, 1)\n",
    "    else:\n",
    "        g, y, x = egcd(b % a, a)\n",
    "        return (g, x - (b // a) * y, y)\n",
    "\n",
    "def modinv(a, m):\n",
    "    g, x, y = egcd(a, m)\n",
    "    if g != 1:\n",
    "        raise Exception('Modular inverse does not exist')\n",
    "    else:\n",
    "        return x % m\n",
    "\n",
    "def crack_unknown_modulus(states):\n",
    "    diffs = [s1 - s0 for s0, s1 in zip(states, states[1:])]\n",
    "    zeroes = [t2 * t0 - t1 * t1 for t0, t1, t2 in zip(diffs, diffs[1:], diffs[2:])]\n",
    "    modulus = abs(reduce(gcd, zeroes))\n",
    "    return crack_unknown_multiplier(states, modulus)\n",
    "\n",
    "def crack_unknown_multiplier(states, modulus):\n",
    "    multiplier = (states[2] - states[1]) * modinv(states[1] - states[0], modulus) % modulus\n",
    "    return multiplier\n",
    "\n",
    "x1 = 65001687610455615650\n",
    "x2 = 880901038222735\n",
    "x3 = 16032398895653777\n",
    "# max_ = 121409833232633162280\n",
    "states = [x1, x2, x3]\n",
    "\n",
    "cracked_multiplier = crack_unknown_modulus(states)\n",
    "\n",
    "print(\"Estimated unknown multiplier:\", cracked_multiplier)\n",
    "\n"
   ]
  }
 ],
 "metadata": {
  "kernelspec": {
   "display_name": "Python 3",
   "language": "python",
   "name": "python3"
  },
  "language_info": {
   "codemirror_mode": {
    "name": "ipython",
    "version": 3
   },
   "file_extension": ".py",
   "mimetype": "text/x-python",
   "name": "python",
   "nbconvert_exporter": "python",
   "pygments_lexer": "ipython3",
   "version": "3.12.0"
  },
  "orig_nbformat": 4,
  "vscode": {
   "interpreter": {
    "hash": "30295c5bec572e859485b1ffa5e89b8b3e2022ef6e3e739c1ac40f143a557caf"
   }
  }
 },
 "nbformat": 4,
 "nbformat_minor": 2
}
