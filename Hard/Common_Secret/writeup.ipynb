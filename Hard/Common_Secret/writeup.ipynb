{
 "cells": [
  {
   "attachments": {},
   "cell_type": "markdown",
   "metadata": {},
   "source": [
    "# Common Secret\n",
    "[Lagrange polynomial](https://en.wikipedia.org/wiki/Lagrange_polynomial)"
   ]
  },
  {
   "cell_type": "code",
   "execution_count": 22,
   "metadata": {},
   "outputs": [
    {
     "name": "stdout",
     "output_type": "stream",
     "text": [
      "Vault key (integer): 115792089237316195423570985008687907853269984665640564039457584007913129639936\n"
     ]
    }
   ],
   "source": [
    "import math\n",
    "\n",
    "secrets = [\n",
    "    int(\"5827900b70bfc024938b7c1d5dc28c74a6c998afe3092fa99ca1deda82675bb1\", 16),\n",
    "    int(\"26e5d67681e8d0189107da0b57e915609e5f295e2f3996812166902cdbdf152b\", 16),\n",
    "    int(\"6c3ad341337b2fdbf876b057eebc2901ef8bdc7e85c50bd141736015388953e3\", 16)\n",
    "]\n",
    "\n",
    "ids = [1, 2, 3]\n",
    "\n",
    "def lagrange_zero(ids, secrets):\n",
    "    sum = 0\n",
    "    for i in range(len(ids)):\n",
    "        xi, yi = ids[i], secrets[i]\n",
    "        prod = 1\n",
    "        for j in range(len(ids)):\n",
    "            if i != j:\n",
    "                xj = ids[j]\n",
    "                prod *= -xj / (xi - xj)\n",
    "        sum += yi * prod\n",
    "    return int(sum)\n",
    "\n",
    "\n",
    "vault_key_int = lagrange_zero(ids, secrets)\n",
    "print(f\"Vault key (integer): {vault_key_int}\")\n",
    "\n",
    "\n",
    "num_bytes = (number.bit_length() + 7) // 8 \n",
    "\n"
   ]
  }
 ],
 "metadata": {
  "kernelspec": {
   "display_name": "Python 3",
   "language": "python",
   "name": "python3"
  },
  "language_info": {
   "codemirror_mode": {
    "name": "ipython",
    "version": 3
   },
   "file_extension": ".py",
   "mimetype": "text/x-python",
   "name": "python",
   "nbconvert_exporter": "python",
   "pygments_lexer": "ipython3",
   "version": "3.12.0"
  },
  "orig_nbformat": 4,
  "vscode": {
   "interpreter": {
    "hash": "30295c5bec572e859485b1ffa5e89b8b3e2022ef6e3e739c1ac40f143a557caf"
   }
  }
 },
 "nbformat": 4,
 "nbformat_minor": 2
}
